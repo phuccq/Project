{
 "cells": [
  {
   "cell_type": "code",
   "execution_count": 63,
   "id": "2ba40768",
   "metadata": {},
   "outputs": [
    {
     "name": "stdout",
     "output_type": "stream",
     "text": [
      "153\n",
      "<re.Match object; span=(0, 3), match='153'>\n"
     ]
    }
   ],
   "source": [
    "import tkinter as tk\n",
    "from tkinter import ttk\n",
    "from tkinter import messagebox as msb\n",
    "import re\n",
    "\n",
    "def validate(value):\n",
    "    # Bắt lỗi nhập số điện thoại\n",
    "#     pattern = '^'0'.{9}[0-9]'\n",
    "    pattern = '\\d+'\n",
    "    result = re.fullmatch(pattern, entry_value_phone.get())\n",
    "    print(entry_value_phone.get())\n",
    "    print(result)\n",
    "    if re.fullmatch(pattern, entry_value_phone.get()) is None:\n",
    "        return False\n",
    "#         msb.showwarning('Warnning','Invalid phone number')\n",
    "    else:\n",
    "        return True\n",
    "\n",
    "def on_invalid():\n",
    "    msb.showwarning('Warnning','Invalid phone number')   \n",
    "\n",
    "main=tk.Tk()\n",
    "main.geometry('200x300')\n",
    "         \n",
    "entry_value_phone=tk.StringVar()\n",
    "\n",
    "\n",
    "entry_phone = ttk.Entry(main,textvariable=entry_value_phone)\n",
    "vcmd = (entry_phone.register(validate),'%P')\n",
    "ivcmd = (entry_phone.register(on_invalid),)\n",
    "entry_phone.config(validate='focusout', validatecommand=vcmd,invalidcommand=ivcmd)\n",
    "entry_phone.pack()\n",
    "         \n",
    "main.mainloop()"
   ]
  },
  {
   "cell_type": "code",
   "execution_count": null,
   "id": "88f3d196",
   "metadata": {},
   "outputs": [],
   "source": []
  }
 ],
 "metadata": {
  "kernelspec": {
   "display_name": "Python 3",
   "language": "python",
   "name": "python3"
  },
  "language_info": {
   "codemirror_mode": {
    "name": "ipython",
    "version": 3
   },
   "file_extension": ".py",
   "mimetype": "text/x-python",
   "name": "python",
   "nbconvert_exporter": "python",
   "pygments_lexer": "ipython3",
   "version": "3.8.8"
  }
 },
 "nbformat": 4,
 "nbformat_minor": 5
}
