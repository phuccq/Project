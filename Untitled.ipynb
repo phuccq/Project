{
 "cells": [
  {
   "cell_type": "code",
   "execution_count": 2,
   "id": "2ba40768",
   "metadata": {},
   "outputs": [
    {
     "name": "stdout",
     "output_type": "stream",
     "text": [
      "stt\n",
      "f_name\n",
      "l_name\n",
      "phone\n",
      "['stt', 'f_name', 'l_name', 'phone']\n",
      "s01\n",
      "Chu Quang\n",
      "Phuc\n",
      "966893009\n",
      "['s01', 'Chu Quang', 'Phuc', 966893009]\n"
     ]
    }
   ],
   "source": [
    "import tkinter as tk\n",
    "from tkinter import ttk as ttk\n",
    "from openpyxl import load_workbook\n",
    "\n",
    "wb = load_workbook('student_list.xlsx')\n",
    "ws = wb['Sheet1']\n",
    "\n",
    "for r in range(1,3):\n",
    "    tvw_value = []\n",
    "    for col in range(1,5):\n",
    "        tvw_value.append(ws.cell(row=r,column=col).value)\n",
    "        print(ws.cell(row=r,column=col).value)\n",
    "    print(tvw_value)\n",
    "    "
   ]
  },
  {
   "cell_type": "code",
   "execution_count": null,
   "id": "88f3d196",
   "metadata": {},
   "outputs": [],
   "source": []
  }
 ],
 "metadata": {
  "kernelspec": {
   "display_name": "Python 3",
   "language": "python",
   "name": "python3"
  },
  "language_info": {
   "codemirror_mode": {
    "name": "ipython",
    "version": 3
   },
   "file_extension": ".py",
   "mimetype": "text/x-python",
   "name": "python",
   "nbconvert_exporter": "python",
   "pygments_lexer": "ipython3",
   "version": "3.8.8"
  }
 },
 "nbformat": 4,
 "nbformat_minor": 5
}
